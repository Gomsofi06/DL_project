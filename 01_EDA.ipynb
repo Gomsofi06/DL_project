{
 "cells": [
  {
   "cell_type": "markdown",
   "metadata": {},
   "source": [
    "<h1 style=\"text-align: center;\">Deep Learning Project</h1>\n",
    "\n",
    "** **\n",
    "\n",
    "## <p style=\"text-align: center;\"><i>01 - Explore Data Analysis </i></p>\n",
    "\n",
    "** **\n",
    "<p style=\"text-align: center;\">\n",
    "David Cascão - 20240851 <br>\n",
    "Jan-Louis Schneider - 20240506 <br>\n",
    "Emir Kamiloglu - 20240945 <br>\n",
    "Marta Boavida - 20240519 <br>\n",
    "Sofia Gomes - 20240848\n",
    "</p>\n"
   ]
  },
  {
   "cell_type": "markdown",
   "metadata": {},
   "source": [
    "## <span style=\"color:#FF007F\">  Notebook  </span> \n",
    "\n",
    "In this notebook, we do an initial exploration of the dataset. We start to see if there was incorrect data types, duplicates and missing values. We conclude that everything was fine. After that we took a detailed look at all the folders and images in the respective.\n"
   ]
  },
  {
   "cell_type": "markdown",
   "metadata": {},
   "source": [
    "## <span style=\"color:#FF007F\"> Table of Contents </span>\n",
    "\n",
    "<a class=\"anchor\" id=\"top\"></a>\n",
    "\n",
    "1. [Import Libraries](#one-bullet) <br>\n",
    "\n",
    "2. [Import Datasets](#two-bullet) <br>\n",
    "\n",
    "3. [Initial Exploration](#three-bullet) <br>\n",
    "\n",
    "4. [Data Types](#four-bullet) <br>\n",
    "\n",
    "5. [Duplicates](#five-bullet) <br>\n",
    "\n",
    "6. [Missing Values](#six-bullet) <br>\n"
   ]
  },
  {
   "cell_type": "markdown",
   "metadata": {},
   "source": [
    "<a class=\"anchor\" id=\"one-bullet\"></a>\n",
    "\n",
    "## <span style=\"color:#FF007F\"> 1. Import Libraries</span>\n",
    "\n",
    "The first step is to import the necessary libraries."
   ]
  },
  {
   "cell_type": "code",
   "execution_count": null,
   "metadata": {},
   "outputs": [],
   "source": [
    "import pandas as pd\n",
    "import numpy as np  \n",
    "import plotly.express as px"
   ]
  },
  {
   "cell_type": "markdown",
   "metadata": {},
   "source": [
    "<a class=\"anchor\" id=\"two-bullet\"> \n",
    "\n",
    "## <span style=\"color:#FF007F\"> 2. Import Datasets</span> \n",
    "\n",
    "<a href=\"#top\">Top &#129033;</a>\n",
    "\n",
    "Next, we start by importing the dataset."
   ]
  },
  {
   "cell_type": "code",
   "execution_count": 2,
   "metadata": {},
   "outputs": [
    {
     "data": {
      "text/html": [
       "<div>\n",
       "<style scoped>\n",
       "    .dataframe tbody tr th:only-of-type {\n",
       "        vertical-align: middle;\n",
       "    }\n",
       "\n",
       "    .dataframe tbody tr th {\n",
       "        vertical-align: top;\n",
       "    }\n",
       "\n",
       "    .dataframe thead th {\n",
       "        text-align: right;\n",
       "    }\n",
       "</style>\n",
       "<table border=\"1\" class=\"dataframe\">\n",
       "  <thead>\n",
       "    <tr style=\"text-align: right;\">\n",
       "      <th></th>\n",
       "      <th>rare_species_id</th>\n",
       "      <th>eol_content_id</th>\n",
       "      <th>eol_page_id</th>\n",
       "      <th>kingdom</th>\n",
       "      <th>phylum</th>\n",
       "      <th>family</th>\n",
       "      <th>file_path</th>\n",
       "    </tr>\n",
       "  </thead>\n",
       "  <tbody>\n",
       "    <tr>\n",
       "      <th>0</th>\n",
       "      <td>75fd91cb-2881-41cd-88e6-de451e8b60e2</td>\n",
       "      <td>12853737</td>\n",
       "      <td>449393</td>\n",
       "      <td>animalia</td>\n",
       "      <td>mollusca</td>\n",
       "      <td>unionidae</td>\n",
       "      <td>mollusca_unionidae/12853737_449393_eol-full-si...</td>\n",
       "    </tr>\n",
       "    <tr>\n",
       "      <th>1</th>\n",
       "      <td>28c508bc-63ff-4e60-9c8f-1934367e1528</td>\n",
       "      <td>20969394</td>\n",
       "      <td>793083</td>\n",
       "      <td>animalia</td>\n",
       "      <td>chordata</td>\n",
       "      <td>geoemydidae</td>\n",
       "      <td>chordata_geoemydidae/20969394_793083_eol-full-...</td>\n",
       "    </tr>\n",
       "    <tr>\n",
       "      <th>2</th>\n",
       "      <td>00372441-588c-4af8-9665-29bee20822c0</td>\n",
       "      <td>28895411</td>\n",
       "      <td>319982</td>\n",
       "      <td>animalia</td>\n",
       "      <td>chordata</td>\n",
       "      <td>cryptobranchidae</td>\n",
       "      <td>chordata_cryptobranchidae/28895411_319982_eol-...</td>\n",
       "    </tr>\n",
       "    <tr>\n",
       "      <th>3</th>\n",
       "      <td>29cc6040-6af2-49ee-86ec-ab7d89793828</td>\n",
       "      <td>29658536</td>\n",
       "      <td>45510188</td>\n",
       "      <td>animalia</td>\n",
       "      <td>chordata</td>\n",
       "      <td>turdidae</td>\n",
       "      <td>chordata_turdidae/29658536_45510188_eol-full-s...</td>\n",
       "    </tr>\n",
       "    <tr>\n",
       "      <th>4</th>\n",
       "      <td>94004bff-3a33-4758-8125-bf72e6e57eab</td>\n",
       "      <td>21252576</td>\n",
       "      <td>7250886</td>\n",
       "      <td>animalia</td>\n",
       "      <td>chordata</td>\n",
       "      <td>indriidae</td>\n",
       "      <td>chordata_indriidae/21252576_7250886_eol-full-s...</td>\n",
       "    </tr>\n",
       "    <tr>\n",
       "      <th>...</th>\n",
       "      <td>...</td>\n",
       "      <td>...</td>\n",
       "      <td>...</td>\n",
       "      <td>...</td>\n",
       "      <td>...</td>\n",
       "      <td>...</td>\n",
       "      <td>...</td>\n",
       "    </tr>\n",
       "    <tr>\n",
       "      <th>11978</th>\n",
       "      <td>1fa96ea5-32fa-4a25-b8d2-fa99f6e2cb89</td>\n",
       "      <td>29734618</td>\n",
       "      <td>1011315</td>\n",
       "      <td>animalia</td>\n",
       "      <td>chordata</td>\n",
       "      <td>leporidae</td>\n",
       "      <td>chordata_leporidae/29734618_1011315_eol-full-s...</td>\n",
       "    </tr>\n",
       "    <tr>\n",
       "      <th>11979</th>\n",
       "      <td>628bf2b4-6ecc-4017-a8e6-4306849e0cfc</td>\n",
       "      <td>29972861</td>\n",
       "      <td>1056842</td>\n",
       "      <td>animalia</td>\n",
       "      <td>chordata</td>\n",
       "      <td>emydidae</td>\n",
       "      <td>chordata_emydidae/29972861_1056842_eol-full-si...</td>\n",
       "    </tr>\n",
       "    <tr>\n",
       "      <th>11980</th>\n",
       "      <td>0ecfdec9-b1cd-4d43-96fc-2f8889ec1ad9</td>\n",
       "      <td>30134195</td>\n",
       "      <td>52572074</td>\n",
       "      <td>animalia</td>\n",
       "      <td>chordata</td>\n",
       "      <td>dasyatidae</td>\n",
       "      <td>chordata_dasyatidae/30134195_52572074_eol-full...</td>\n",
       "    </tr>\n",
       "    <tr>\n",
       "      <th>11981</th>\n",
       "      <td>27fdb1e9-c5fb-459a-8b6a-6fb222b1c512</td>\n",
       "      <td>9474963</td>\n",
       "      <td>46559139</td>\n",
       "      <td>animalia</td>\n",
       "      <td>chordata</td>\n",
       "      <td>mustelidae</td>\n",
       "      <td>chordata_mustelidae/9474963_46559139_eol-full-...</td>\n",
       "    </tr>\n",
       "    <tr>\n",
       "      <th>11982</th>\n",
       "      <td>54894a59-151f-4814-ac32-3a336841e58e</td>\n",
       "      <td>9465817</td>\n",
       "      <td>326525</td>\n",
       "      <td>animalia</td>\n",
       "      <td>chordata</td>\n",
       "      <td>lemuridae</td>\n",
       "      <td>chordata_lemuridae/9465817_326525_eol-full-siz...</td>\n",
       "    </tr>\n",
       "  </tbody>\n",
       "</table>\n",
       "<p>11983 rows × 7 columns</p>\n",
       "</div>"
      ],
      "text/plain": [
       "                            rare_species_id  eol_content_id  eol_page_id  \\\n",
       "0      75fd91cb-2881-41cd-88e6-de451e8b60e2        12853737       449393   \n",
       "1      28c508bc-63ff-4e60-9c8f-1934367e1528        20969394       793083   \n",
       "2      00372441-588c-4af8-9665-29bee20822c0        28895411       319982   \n",
       "3      29cc6040-6af2-49ee-86ec-ab7d89793828        29658536     45510188   \n",
       "4      94004bff-3a33-4758-8125-bf72e6e57eab        21252576      7250886   \n",
       "...                                     ...             ...          ...   \n",
       "11978  1fa96ea5-32fa-4a25-b8d2-fa99f6e2cb89        29734618      1011315   \n",
       "11979  628bf2b4-6ecc-4017-a8e6-4306849e0cfc        29972861      1056842   \n",
       "11980  0ecfdec9-b1cd-4d43-96fc-2f8889ec1ad9        30134195     52572074   \n",
       "11981  27fdb1e9-c5fb-459a-8b6a-6fb222b1c512         9474963     46559139   \n",
       "11982  54894a59-151f-4814-ac32-3a336841e58e         9465817       326525   \n",
       "\n",
       "        kingdom    phylum            family  \\\n",
       "0      animalia  mollusca         unionidae   \n",
       "1      animalia  chordata       geoemydidae   \n",
       "2      animalia  chordata  cryptobranchidae   \n",
       "3      animalia  chordata          turdidae   \n",
       "4      animalia  chordata         indriidae   \n",
       "...         ...       ...               ...   \n",
       "11978  animalia  chordata         leporidae   \n",
       "11979  animalia  chordata          emydidae   \n",
       "11980  animalia  chordata        dasyatidae   \n",
       "11981  animalia  chordata        mustelidae   \n",
       "11982  animalia  chordata         lemuridae   \n",
       "\n",
       "                                               file_path  \n",
       "0      mollusca_unionidae/12853737_449393_eol-full-si...  \n",
       "1      chordata_geoemydidae/20969394_793083_eol-full-...  \n",
       "2      chordata_cryptobranchidae/28895411_319982_eol-...  \n",
       "3      chordata_turdidae/29658536_45510188_eol-full-s...  \n",
       "4      chordata_indriidae/21252576_7250886_eol-full-s...  \n",
       "...                                                  ...  \n",
       "11978  chordata_leporidae/29734618_1011315_eol-full-s...  \n",
       "11979  chordata_emydidae/29972861_1056842_eol-full-si...  \n",
       "11980  chordata_dasyatidae/30134195_52572074_eol-full...  \n",
       "11981  chordata_mustelidae/9474963_46559139_eol-full-...  \n",
       "11982  chordata_lemuridae/9465817_326525_eol-full-siz...  \n",
       "\n",
       "[11983 rows x 7 columns]"
      ]
     },
     "execution_count": 2,
     "metadata": {},
     "output_type": "execute_result"
    }
   ],
   "source": [
    "df = pd.read_csv('./data/metadata.csv')\n",
    "df"
   ]
  },
  {
   "cell_type": "markdown",
   "metadata": {},
   "source": [
    "<a class=\"anchor\" id=\"three-bullet\"> \n",
    "\n",
    "## <span style=\"color:#FF007F\"> 3. Initial Exploration</span> \n",
    "\n",
    "<a href=\"#top\">Top &#129033;</a>\n",
    "\n",
    "In order to better understand the dataset, we started by exploring it.\n"
   ]
  },
  {
   "cell_type": "markdown",
   "metadata": {},
   "source": [
    "<span style=\"color:#FF007F\"> 3.1. Get the first 10 rows of the dataset df </span> "
   ]
  },
  {
   "cell_type": "code",
   "execution_count": 3,
   "metadata": {},
   "outputs": [
    {
     "data": {
      "text/html": [
       "<div>\n",
       "<style scoped>\n",
       "    .dataframe tbody tr th:only-of-type {\n",
       "        vertical-align: middle;\n",
       "    }\n",
       "\n",
       "    .dataframe tbody tr th {\n",
       "        vertical-align: top;\n",
       "    }\n",
       "\n",
       "    .dataframe thead th {\n",
       "        text-align: right;\n",
       "    }\n",
       "</style>\n",
       "<table border=\"1\" class=\"dataframe\">\n",
       "  <thead>\n",
       "    <tr style=\"text-align: right;\">\n",
       "      <th></th>\n",
       "      <th>rare_species_id</th>\n",
       "      <th>eol_content_id</th>\n",
       "      <th>eol_page_id</th>\n",
       "      <th>kingdom</th>\n",
       "      <th>phylum</th>\n",
       "      <th>family</th>\n",
       "      <th>file_path</th>\n",
       "    </tr>\n",
       "  </thead>\n",
       "  <tbody>\n",
       "    <tr>\n",
       "      <th>0</th>\n",
       "      <td>75fd91cb-2881-41cd-88e6-de451e8b60e2</td>\n",
       "      <td>12853737</td>\n",
       "      <td>449393</td>\n",
       "      <td>animalia</td>\n",
       "      <td>mollusca</td>\n",
       "      <td>unionidae</td>\n",
       "      <td>mollusca_unionidae/12853737_449393_eol-full-si...</td>\n",
       "    </tr>\n",
       "    <tr>\n",
       "      <th>1</th>\n",
       "      <td>28c508bc-63ff-4e60-9c8f-1934367e1528</td>\n",
       "      <td>20969394</td>\n",
       "      <td>793083</td>\n",
       "      <td>animalia</td>\n",
       "      <td>chordata</td>\n",
       "      <td>geoemydidae</td>\n",
       "      <td>chordata_geoemydidae/20969394_793083_eol-full-...</td>\n",
       "    </tr>\n",
       "    <tr>\n",
       "      <th>2</th>\n",
       "      <td>00372441-588c-4af8-9665-29bee20822c0</td>\n",
       "      <td>28895411</td>\n",
       "      <td>319982</td>\n",
       "      <td>animalia</td>\n",
       "      <td>chordata</td>\n",
       "      <td>cryptobranchidae</td>\n",
       "      <td>chordata_cryptobranchidae/28895411_319982_eol-...</td>\n",
       "    </tr>\n",
       "    <tr>\n",
       "      <th>3</th>\n",
       "      <td>29cc6040-6af2-49ee-86ec-ab7d89793828</td>\n",
       "      <td>29658536</td>\n",
       "      <td>45510188</td>\n",
       "      <td>animalia</td>\n",
       "      <td>chordata</td>\n",
       "      <td>turdidae</td>\n",
       "      <td>chordata_turdidae/29658536_45510188_eol-full-s...</td>\n",
       "    </tr>\n",
       "    <tr>\n",
       "      <th>4</th>\n",
       "      <td>94004bff-3a33-4758-8125-bf72e6e57eab</td>\n",
       "      <td>21252576</td>\n",
       "      <td>7250886</td>\n",
       "      <td>animalia</td>\n",
       "      <td>chordata</td>\n",
       "      <td>indriidae</td>\n",
       "      <td>chordata_indriidae/21252576_7250886_eol-full-s...</td>\n",
       "    </tr>\n",
       "    <tr>\n",
       "      <th>5</th>\n",
       "      <td>dc48f2ce-4feb-4ef7-b2a2-c3c3f42bf19b</td>\n",
       "      <td>28657539</td>\n",
       "      <td>491832</td>\n",
       "      <td>animalia</td>\n",
       "      <td>arthropoda</td>\n",
       "      <td>formicidae</td>\n",
       "      <td>arthropoda_formicidae/28657539_491832_eol-full...</td>\n",
       "    </tr>\n",
       "    <tr>\n",
       "      <th>6</th>\n",
       "      <td>3d881320-8ba8-4580-a72c-0e7ab116b664</td>\n",
       "      <td>29548208</td>\n",
       "      <td>47043290</td>\n",
       "      <td>animalia</td>\n",
       "      <td>chordata</td>\n",
       "      <td>fringillidae</td>\n",
       "      <td>chordata_fringillidae/29548208_47043290_eol-fu...</td>\n",
       "    </tr>\n",
       "    <tr>\n",
       "      <th>7</th>\n",
       "      <td>7faca96a-54e6-4c80-b9e4-77ab126d904a</td>\n",
       "      <td>21232818</td>\n",
       "      <td>1033999</td>\n",
       "      <td>animalia</td>\n",
       "      <td>arthropoda</td>\n",
       "      <td>gomphidae</td>\n",
       "      <td>arthropoda_gomphidae/21232818_1033999_eol-full...</td>\n",
       "    </tr>\n",
       "    <tr>\n",
       "      <th>8</th>\n",
       "      <td>9f89ecab-aabd-41a4-b5b4-8ce106d85959</td>\n",
       "      <td>20315204</td>\n",
       "      <td>46561012</td>\n",
       "      <td>animalia</td>\n",
       "      <td>chordata</td>\n",
       "      <td>myliobatidae</td>\n",
       "      <td>chordata_myliobatidae/20315204_46561012_eol-fu...</td>\n",
       "    </tr>\n",
       "    <tr>\n",
       "      <th>9</th>\n",
       "      <td>b6ec7a70-c470-4ede-8930-05844e1efd2e</td>\n",
       "      <td>20124498</td>\n",
       "      <td>46570095</td>\n",
       "      <td>animalia</td>\n",
       "      <td>chordata</td>\n",
       "      <td>pleuronectidae</td>\n",
       "      <td>chordata_pleuronectidae/20124498_46570095_eol-...</td>\n",
       "    </tr>\n",
       "  </tbody>\n",
       "</table>\n",
       "</div>"
      ],
      "text/plain": [
       "                        rare_species_id  eol_content_id  eol_page_id  \\\n",
       "0  75fd91cb-2881-41cd-88e6-de451e8b60e2        12853737       449393   \n",
       "1  28c508bc-63ff-4e60-9c8f-1934367e1528        20969394       793083   \n",
       "2  00372441-588c-4af8-9665-29bee20822c0        28895411       319982   \n",
       "3  29cc6040-6af2-49ee-86ec-ab7d89793828        29658536     45510188   \n",
       "4  94004bff-3a33-4758-8125-bf72e6e57eab        21252576      7250886   \n",
       "5  dc48f2ce-4feb-4ef7-b2a2-c3c3f42bf19b        28657539       491832   \n",
       "6  3d881320-8ba8-4580-a72c-0e7ab116b664        29548208     47043290   \n",
       "7  7faca96a-54e6-4c80-b9e4-77ab126d904a        21232818      1033999   \n",
       "8  9f89ecab-aabd-41a4-b5b4-8ce106d85959        20315204     46561012   \n",
       "9  b6ec7a70-c470-4ede-8930-05844e1efd2e        20124498     46570095   \n",
       "\n",
       "    kingdom      phylum            family  \\\n",
       "0  animalia    mollusca         unionidae   \n",
       "1  animalia    chordata       geoemydidae   \n",
       "2  animalia    chordata  cryptobranchidae   \n",
       "3  animalia    chordata          turdidae   \n",
       "4  animalia    chordata         indriidae   \n",
       "5  animalia  arthropoda        formicidae   \n",
       "6  animalia    chordata      fringillidae   \n",
       "7  animalia  arthropoda         gomphidae   \n",
       "8  animalia    chordata      myliobatidae   \n",
       "9  animalia    chordata    pleuronectidae   \n",
       "\n",
       "                                           file_path  \n",
       "0  mollusca_unionidae/12853737_449393_eol-full-si...  \n",
       "1  chordata_geoemydidae/20969394_793083_eol-full-...  \n",
       "2  chordata_cryptobranchidae/28895411_319982_eol-...  \n",
       "3  chordata_turdidae/29658536_45510188_eol-full-s...  \n",
       "4  chordata_indriidae/21252576_7250886_eol-full-s...  \n",
       "5  arthropoda_formicidae/28657539_491832_eol-full...  \n",
       "6  chordata_fringillidae/29548208_47043290_eol-fu...  \n",
       "7  arthropoda_gomphidae/21232818_1033999_eol-full...  \n",
       "8  chordata_myliobatidae/20315204_46561012_eol-fu...  \n",
       "9  chordata_pleuronectidae/20124498_46570095_eol-...  "
      ]
     },
     "execution_count": 3,
     "metadata": {},
     "output_type": "execute_result"
    }
   ],
   "source": [
    "df.head(10)"
   ]
  },
  {
   "cell_type": "markdown",
   "metadata": {},
   "source": [
    "<span style=\"color:#FF007F\"> 3.2. Get the shape of the dataset df </span> "
   ]
  },
  {
   "cell_type": "code",
   "execution_count": 4,
   "metadata": {},
   "outputs": [
    {
     "name": "stdout",
     "output_type": "stream",
     "text": [
      "The dataset has 11983 rows and 7 columns.\n"
     ]
    }
   ],
   "source": [
    "print(f'The dataset has {df.shape[0]} rows and {df.shape[1]} columns.')"
   ]
  },
  {
   "cell_type": "markdown",
   "metadata": {},
   "source": [
    "<span style=\"color:#FF007F\"> 3.3. Get information about the data types in each column </span> "
   ]
  },
  {
   "cell_type": "code",
   "execution_count": 5,
   "metadata": {},
   "outputs": [
    {
     "name": "stdout",
     "output_type": "stream",
     "text": [
      "<class 'pandas.core.frame.DataFrame'>\n",
      "RangeIndex: 11983 entries, 0 to 11982\n",
      "Data columns (total 7 columns):\n",
      " #   Column           Non-Null Count  Dtype \n",
      "---  ------           --------------  ----- \n",
      " 0   rare_species_id  11983 non-null  object\n",
      " 1   eol_content_id   11983 non-null  int64 \n",
      " 2   eol_page_id      11983 non-null  int64 \n",
      " 3   kingdom          11983 non-null  object\n",
      " 4   phylum           11983 non-null  object\n",
      " 5   family           11983 non-null  object\n",
      " 6   file_path        11983 non-null  object\n",
      "dtypes: int64(2), object(5)\n",
      "memory usage: 655.4+ KB\n"
     ]
    }
   ],
   "source": [
    "df.info()"
   ]
  },
  {
   "cell_type": "markdown",
   "metadata": {},
   "source": [
    "**Conclusions:**\n",
    "- There are 2 numerical columns (int64) and 5 categorical columns (object)"
   ]
  },
  {
   "cell_type": "markdown",
   "metadata": {},
   "source": [
    "<span style=\"color:#FF007F\"> 3.4. Some statistics about all the columns </span> "
   ]
  },
  {
   "cell_type": "code",
   "execution_count": 6,
   "metadata": {},
   "outputs": [
    {
     "data": {
      "text/html": [
       "<div>\n",
       "<style scoped>\n",
       "    .dataframe tbody tr th:only-of-type {\n",
       "        vertical-align: middle;\n",
       "    }\n",
       "\n",
       "    .dataframe tbody tr th {\n",
       "        vertical-align: top;\n",
       "    }\n",
       "\n",
       "    .dataframe thead th {\n",
       "        text-align: right;\n",
       "    }\n",
       "</style>\n",
       "<table border=\"1\" class=\"dataframe\">\n",
       "  <thead>\n",
       "    <tr style=\"text-align: right;\">\n",
       "      <th></th>\n",
       "      <th>eol_content_id</th>\n",
       "      <th>eol_page_id</th>\n",
       "    </tr>\n",
       "  </thead>\n",
       "  <tbody>\n",
       "    <tr>\n",
       "      <th>count</th>\n",
       "      <td>1.198300e+04</td>\n",
       "      <td>1.198300e+04</td>\n",
       "    </tr>\n",
       "    <tr>\n",
       "      <th>mean</th>\n",
       "      <td>2.297681e+07</td>\n",
       "      <td>2.112247e+07</td>\n",
       "    </tr>\n",
       "    <tr>\n",
       "      <th>std</th>\n",
       "      <td>6.999289e+06</td>\n",
       "      <td>2.241319e+07</td>\n",
       "    </tr>\n",
       "    <tr>\n",
       "      <th>min</th>\n",
       "      <td>4.750000e+02</td>\n",
       "      <td>1.180080e+05</td>\n",
       "    </tr>\n",
       "    <tr>\n",
       "      <th>25%</th>\n",
       "      <td>2.058937e+07</td>\n",
       "      <td>7.954560e+05</td>\n",
       "    </tr>\n",
       "    <tr>\n",
       "      <th>50%</th>\n",
       "      <td>2.251368e+07</td>\n",
       "      <td>2.865857e+06</td>\n",
       "    </tr>\n",
       "    <tr>\n",
       "      <th>75%</th>\n",
       "      <td>2.932887e+07</td>\n",
       "      <td>4.551773e+07</td>\n",
       "    </tr>\n",
       "    <tr>\n",
       "      <th>max</th>\n",
       "      <td>3.061946e+07</td>\n",
       "      <td>5.269200e+07</td>\n",
       "    </tr>\n",
       "  </tbody>\n",
       "</table>\n",
       "</div>"
      ],
      "text/plain": [
       "       eol_content_id   eol_page_id\n",
       "count    1.198300e+04  1.198300e+04\n",
       "mean     2.297681e+07  2.112247e+07\n",
       "std      6.999289e+06  2.241319e+07\n",
       "min      4.750000e+02  1.180080e+05\n",
       "25%      2.058937e+07  7.954560e+05\n",
       "50%      2.251368e+07  2.865857e+06\n",
       "75%      2.932887e+07  4.551773e+07\n",
       "max      3.061946e+07  5.269200e+07"
      ]
     },
     "execution_count": 6,
     "metadata": {},
     "output_type": "execute_result"
    }
   ],
   "source": [
    "df.describe()"
   ]
  },
  {
   "cell_type": "markdown",
   "metadata": {},
   "source": [
    "**Conclusions:**\n",
    "1. The column \"eol_content_id\" \n",
    "    - start in 475 (very low - might be worth checking for anomalies or special cases) and finish at ~30.62 million\n",
    "    - the mean is ~22.98 million and the median is ~22.51 million\n",
    "\n",
    "2. The column \"eol_page_id\" \n",
    "    - start in 118,008 and finish at ~52.69 million\n",
    "    - the mean is ~21.12 million and the median is ~2.87 million. This suggest that there is outliers "
   ]
  },
  {
   "cell_type": "markdown",
   "metadata": {},
   "source": [
    "<span style=\"color:#FF007F\"> 3.5. Types of phylum </span> "
   ]
  },
  {
   "cell_type": "code",
   "execution_count": 7,
   "metadata": {},
   "outputs": [
    {
     "data": {
      "text/plain": [
       "phylum\n",
       "chordata         9952\n",
       "arthropoda        951\n",
       "cnidaria          810\n",
       "mollusca          210\n",
       "echinodermata      60\n",
       "Name: count, dtype: int64"
      ]
     },
     "execution_count": 7,
     "metadata": {},
     "output_type": "execute_result"
    }
   ],
   "source": [
    "df['phylum'].value_counts()"
   ]
  },
  {
   "cell_type": "markdown",
   "metadata": {},
   "source": [
    "**Conclusions:**\n",
    "- We can see that we have 5 different types: chordata, arthropoda, cnidaria, mollusca and echinodermata"
   ]
  },
  {
   "cell_type": "markdown",
   "metadata": {},
   "source": [
    "<span style=\"color:#FF007F\"> 3.6. Family Tree of our Metadata </span> "
   ]
  },
  {
   "cell_type": "code",
   "execution_count": 9,
   "metadata": {},
   "outputs": [
    {
     "data": {
      "application/vnd.plotly.v1+json": {
       "config": {
        "plotlyServerURL": "https://plot.ly"
       },
       "data": [
        {
         "branchvalues": "total",
         "domain": {
          "x": [
           0,
           1
          ],
          "y": [
           0,
           1
          ]
         },
         "hovertemplate": "labels=%{label}<br>count=%{value}<br>parent=%{parent}<br>id=%{id}<extra></extra>",
         "ids": [
          "Family Tree/chordata/accipitridae",
          "Family Tree/chordata/acipenseridae",
          "Family Tree/cnidaria/acroporidae",
          "Family Tree/chordata/agamidae",
          "Family Tree/cnidaria/agariciidae",
          "Family Tree/chordata/albulidae",
          "Family Tree/chordata/alcedinidae",
          "Family Tree/chordata/alligatoridae",
          "Family Tree/chordata/alopiidae",
          "Family Tree/chordata/ambystomatidae",
          "Family Tree/chordata/anatidae",
          "Family Tree/chordata/anguidae",
          "Family Tree/chordata/aotidae",
          "Family Tree/arthropoda/apidae",
          "Family Tree/chordata/ardeidae",
          "Family Tree/chordata/arthroleptidae",
          "Family Tree/chordata/atelidae",
          "Family Tree/arthropoda/attelabidae",
          "Family Tree/chordata/balaenicipitidae",
          "Family Tree/chordata/balaenidae",
          "Family Tree/chordata/balaenopteridae",
          "Family Tree/chordata/balistidae",
          "Family Tree/chordata/bombycillidae",
          "Family Tree/chordata/bovidae",
          "Family Tree/chordata/brachypteraciidae",
          "Family Tree/chordata/bucerotidae",
          "Family Tree/chordata/bufonidae",
          "Family Tree/chordata/burhinidae",
          "Family Tree/chordata/cacatuidae",
          "Family Tree/chordata/callitrichidae",
          "Family Tree/chordata/callorhinchidae",
          "Family Tree/chordata/caprimulgidae",
          "Family Tree/arthropoda/carabidae",
          "Family Tree/chordata/carcharhinidae",
          "Family Tree/mollusca/cardiidae",
          "Family Tree/chordata/carettochelyidae",
          "Family Tree/chordata/cebidae",
          "Family Tree/arthropoda/cerambycidae",
          "Family Tree/chordata/cercopithecidae",
          "Family Tree/chordata/cervidae",
          "Family Tree/chordata/cetorhinidae",
          "Family Tree/chordata/chaetodontidae",
          "Family Tree/chordata/chamaeleonidae",
          "Family Tree/chordata/charadriidae",
          "Family Tree/chordata/cheirogaleidae",
          "Family Tree/chordata/chelidae",
          "Family Tree/chordata/cheloniidae",
          "Family Tree/chordata/chelydridae",
          "Family Tree/chordata/ciconiidae",
          "Family Tree/arthropoda/coenagrionidae",
          "Family Tree/chordata/colubridae",
          "Family Tree/chordata/columbidae",
          "Family Tree/mollusca/conidae",
          "Family Tree/chordata/cracidae",
          "Family Tree/chordata/cricetidae",
          "Family Tree/chordata/crocodylidae",
          "Family Tree/chordata/cryptobranchidae",
          "Family Tree/chordata/ctenomyidae",
          "Family Tree/chordata/cuculidae",
          "Family Tree/chordata/cyprinodontidae",
          "Family Tree/chordata/dactyloidae",
          "Family Tree/chordata/dalatiidae",
          "Family Tree/chordata/dasyatidae",
          "Family Tree/chordata/dasypodidae",
          "Family Tree/chordata/dasyuridae",
          "Family Tree/chordata/daubentoniidae",
          "Family Tree/chordata/delphinidae",
          "Family Tree/chordata/dendrobatidae",
          "Family Tree/cnidaria/dendrophylliidae",
          "Family Tree/chordata/diomedeidae",
          "Family Tree/cnidaria/diploastraeidae",
          "Family Tree/chordata/diplodactylidae",
          "Family Tree/chordata/elapidae",
          "Family Tree/chordata/emydidae",
          "Family Tree/chordata/equidae",
          "Family Tree/chordata/estrildidae",
          "Family Tree/cnidaria/euphylliidae",
          "Family Tree/chordata/falconidae",
          "Family Tree/cnidaria/faviidae",
          "Family Tree/arthropoda/formicidae",
          "Family Tree/chordata/fringillidae",
          "Family Tree/cnidaria/fungiidae",
          "Family Tree/chordata/gavialidae",
          "Family Tree/chordata/gekkonidae",
          "Family Tree/chordata/geoemydidae",
          "Family Tree/chordata/giraffidae",
          "Family Tree/chordata/glareolidae",
          "Family Tree/chordata/gliridae",
          "Family Tree/arthropoda/gomphidae",
          "Family Tree/chordata/goodeidae",
          "Family Tree/chordata/gymnuridae",
          "Family Tree/mollusca/haliotidae",
          "Family Tree/cnidaria/helioporidae",
          "Family Tree/chordata/hemiscylliidae",
          "Family Tree/chordata/hexanchidae",
          "Family Tree/chordata/hominidae",
          "Family Tree/chordata/hyaenidae",
          "Family Tree/chordata/hylobatidae",
          "Family Tree/chordata/hynobiidae",
          "Family Tree/chordata/iguanidae",
          "Family Tree/chordata/indriidae",
          "Family Tree/chordata/labridae",
          "Family Tree/chordata/lacertidae",
          "Family Tree/chordata/lamnidae",
          "Family Tree/chordata/laridae",
          "Family Tree/chordata/latimeriidae",
          "Family Tree/chordata/lemuridae",
          "Family Tree/chordata/leporidae",
          "Family Tree/cnidaria/lobophylliidae",
          "Family Tree/arthropoda/lucanidae",
          "Family Tree/chordata/lutjanidae",
          "Family Tree/chordata/manidae",
          "Family Tree/chordata/mantellidae",
          "Family Tree/cnidaria/meandrinidae",
          "Family Tree/chordata/megapodiidae",
          "Family Tree/chordata/merlucciidae",
          "Family Tree/cnidaria/merulinidae",
          "Family Tree/chordata/mesitornithidae",
          "Family Tree/chordata/mimidae",
          "Family Tree/chordata/motacillidae",
          "Family Tree/chordata/muscicapidae",
          "Family Tree/chordata/mustelidae",
          "Family Tree/chordata/myliobatidae",
          "Family Tree/chordata/nesospingidae",
          "Family Tree/arthropoda/nymphalidae",
          "Family Tree/chordata/odontophoridae",
          "Family Tree/chordata/otariidae",
          "Family Tree/chordata/otididae",
          "Family Tree/arthropoda/palinuridae",
          "Family Tree/chordata/pangasiidae",
          "Family Tree/arthropoda/papilionidae",
          "Family Tree/chordata/paradisaeidae",
          "Family Tree/chordata/pardalotidae",
          "Family Tree/chordata/parulidae",
          "Family Tree/chordata/percidae",
          "Family Tree/chordata/phasianidae",
          "Family Tree/chordata/phrynosomatidae",
          "Family Tree/chordata/phyllomedusidae",
          "Family Tree/chordata/phyllostomidae",
          "Family Tree/arthropoda/pisauridae",
          "Family Tree/chordata/pittidae",
          "Family Tree/arthropoda/platystictidae",
          "Family Tree/chordata/plethodontidae",
          "Family Tree/chordata/pleuronectidae",
          "Family Tree/cnidaria/pocilloporidae",
          "Family Tree/chordata/podocnemididae",
          "Family Tree/chordata/polyprionidae",
          "Family Tree/chordata/pontoporiidae",
          "Family Tree/chordata/potoroidae",
          "Family Tree/chordata/pristidae",
          "Family Tree/chordata/procellariidae",
          "Family Tree/arthropoda/pseudophasmatidae",
          "Family Tree/chordata/psittacidae",
          "Family Tree/chordata/psittaculidae",
          "Family Tree/chordata/pythonidae",
          "Family Tree/chordata/rajidae",
          "Family Tree/chordata/rallidae",
          "Family Tree/chordata/ramphastidae",
          "Family Tree/chordata/ranidae",
          "Family Tree/chordata/recurvirostridae",
          "Family Tree/chordata/rhacophoridae",
          "Family Tree/chordata/rhinodermatidae",
          "Family Tree/chordata/rhyacotritonidae",
          "Family Tree/chordata/salamandridae",
          "Family Tree/chordata/salmonidae",
          "Family Tree/chordata/scincidae",
          "Family Tree/chordata/sciuridae",
          "Family Tree/chordata/scolopacidae",
          "Family Tree/chordata/scombridae",
          "Family Tree/chordata/serranidae",
          "Family Tree/cnidaria/siderastreidae",
          "Family Tree/chordata/siluridae",
          "Family Tree/chordata/somniosidae",
          "Family Tree/chordata/soricidae",
          "Family Tree/chordata/sparidae",
          "Family Tree/chordata/spheniscidae",
          "Family Tree/chordata/sphyrnidae",
          "Family Tree/chordata/squalidae",
          "Family Tree/chordata/squatinidae",
          "Family Tree/echinodermata/stichopodidae",
          "Family Tree/chordata/strigidae",
          "Family Tree/chordata/strigopidae",
          "Family Tree/chordata/syngnathidae",
          "Family Tree/chordata/testudinidae",
          "Family Tree/arthropoda/tettigoniidae",
          "Family Tree/arthropoda/theraphosidae",
          "Family Tree/chordata/thraupidae",
          "Family Tree/chordata/trionychidae",
          "Family Tree/arthropoda/triopsidae",
          "Family Tree/chordata/trochilidae",
          "Family Tree/chordata/trogonidae",
          "Family Tree/chordata/tropiduridae",
          "Family Tree/chordata/turdidae",
          "Family Tree/mollusca/unionidae",
          "Family Tree/chordata/urolophidae",
          "Family Tree/chordata/ursidae",
          "Family Tree/chordata/vangidae",
          "Family Tree/chordata/vespertilionidae",
          "Family Tree/chordata/viperidae",
          "Family Tree/chordata/vireonidae",
          "Family Tree/chordata/vombatidae",
          "Family Tree/mollusca/zonitidae",
          "Family Tree/arthropoda",
          "Family Tree/chordata",
          "Family Tree/cnidaria",
          "Family Tree/echinodermata",
          "Family Tree/mollusca",
          "Family Tree"
         ],
         "labels": [
          "accipitridae",
          "acipenseridae",
          "acroporidae",
          "agamidae",
          "agariciidae",
          "albulidae",
          "alcedinidae",
          "alligatoridae",
          "alopiidae",
          "ambystomatidae",
          "anatidae",
          "anguidae",
          "aotidae",
          "apidae",
          "ardeidae",
          "arthroleptidae",
          "atelidae",
          "attelabidae",
          "balaenicipitidae",
          "balaenidae",
          "balaenopteridae",
          "balistidae",
          "bombycillidae",
          "bovidae",
          "brachypteraciidae",
          "bucerotidae",
          "bufonidae",
          "burhinidae",
          "cacatuidae",
          "callitrichidae",
          "callorhinchidae",
          "caprimulgidae",
          "carabidae",
          "carcharhinidae",
          "cardiidae",
          "carettochelyidae",
          "cebidae",
          "cerambycidae",
          "cercopithecidae",
          "cervidae",
          "cetorhinidae",
          "chaetodontidae",
          "chamaeleonidae",
          "charadriidae",
          "cheirogaleidae",
          "chelidae",
          "cheloniidae",
          "chelydridae",
          "ciconiidae",
          "coenagrionidae",
          "colubridae",
          "columbidae",
          "conidae",
          "cracidae",
          "cricetidae",
          "crocodylidae",
          "cryptobranchidae",
          "ctenomyidae",
          "cuculidae",
          "cyprinodontidae",
          "dactyloidae",
          "dalatiidae",
          "dasyatidae",
          "dasypodidae",
          "dasyuridae",
          "daubentoniidae",
          "delphinidae",
          "dendrobatidae",
          "dendrophylliidae",
          "diomedeidae",
          "diploastraeidae",
          "diplodactylidae",
          "elapidae",
          "emydidae",
          "equidae",
          "estrildidae",
          "euphylliidae",
          "falconidae",
          "faviidae",
          "formicidae",
          "fringillidae",
          "fungiidae",
          "gavialidae",
          "gekkonidae",
          "geoemydidae",
          "giraffidae",
          "glareolidae",
          "gliridae",
          "gomphidae",
          "goodeidae",
          "gymnuridae",
          "haliotidae",
          "helioporidae",
          "hemiscylliidae",
          "hexanchidae",
          "hominidae",
          "hyaenidae",
          "hylobatidae",
          "hynobiidae",
          "iguanidae",
          "indriidae",
          "labridae",
          "lacertidae",
          "lamnidae",
          "laridae",
          "latimeriidae",
          "lemuridae",
          "leporidae",
          "lobophylliidae",
          "lucanidae",
          "lutjanidae",
          "manidae",
          "mantellidae",
          "meandrinidae",
          "megapodiidae",
          "merlucciidae",
          "merulinidae",
          "mesitornithidae",
          "mimidae",
          "motacillidae",
          "muscicapidae",
          "mustelidae",
          "myliobatidae",
          "nesospingidae",
          "nymphalidae",
          "odontophoridae",
          "otariidae",
          "otididae",
          "palinuridae",
          "pangasiidae",
          "papilionidae",
          "paradisaeidae",
          "pardalotidae",
          "parulidae",
          "percidae",
          "phasianidae",
          "phrynosomatidae",
          "phyllomedusidae",
          "phyllostomidae",
          "pisauridae",
          "pittidae",
          "platystictidae",
          "plethodontidae",
          "pleuronectidae",
          "pocilloporidae",
          "podocnemididae",
          "polyprionidae",
          "pontoporiidae",
          "potoroidae",
          "pristidae",
          "procellariidae",
          "pseudophasmatidae",
          "psittacidae",
          "psittaculidae",
          "pythonidae",
          "rajidae",
          "rallidae",
          "ramphastidae",
          "ranidae",
          "recurvirostridae",
          "rhacophoridae",
          "rhinodermatidae",
          "rhyacotritonidae",
          "salamandridae",
          "salmonidae",
          "scincidae",
          "sciuridae",
          "scolopacidae",
          "scombridae",
          "serranidae",
          "siderastreidae",
          "siluridae",
          "somniosidae",
          "soricidae",
          "sparidae",
          "spheniscidae",
          "sphyrnidae",
          "squalidae",
          "squatinidae",
          "stichopodidae",
          "strigidae",
          "strigopidae",
          "syngnathidae",
          "testudinidae",
          "tettigoniidae",
          "theraphosidae",
          "thraupidae",
          "trionychidae",
          "triopsidae",
          "trochilidae",
          "trogonidae",
          "tropiduridae",
          "turdidae",
          "unionidae",
          "urolophidae",
          "ursidae",
          "vangidae",
          "vespertilionidae",
          "viperidae",
          "vireonidae",
          "vombatidae",
          "zonitidae",
          "arthropoda",
          "chordata",
          "cnidaria",
          "echinodermata",
          "mollusca",
          "Family Tree"
         ],
         "name": "",
         "parents": [
          "Family Tree/chordata",
          "Family Tree/chordata",
          "Family Tree/cnidaria",
          "Family Tree/chordata",
          "Family Tree/cnidaria",
          "Family Tree/chordata",
          "Family Tree/chordata",
          "Family Tree/chordata",
          "Family Tree/chordata",
          "Family Tree/chordata",
          "Family Tree/chordata",
          "Family Tree/chordata",
          "Family Tree/chordata",
          "Family Tree/arthropoda",
          "Family Tree/chordata",
          "Family Tree/chordata",
          "Family Tree/chordata",
          "Family Tree/arthropoda",
          "Family Tree/chordata",
          "Family Tree/chordata",
          "Family Tree/chordata",
          "Family Tree/chordata",
          "Family Tree/chordata",
          "Family Tree/chordata",
          "Family Tree/chordata",
          "Family Tree/chordata",
          "Family Tree/chordata",
          "Family Tree/chordata",
          "Family Tree/chordata",
          "Family Tree/chordata",
          "Family Tree/chordata",
          "Family Tree/chordata",
          "Family Tree/arthropoda",
          "Family Tree/chordata",
          "Family Tree/mollusca",
          "Family Tree/chordata",
          "Family Tree/chordata",
          "Family Tree/arthropoda",
          "Family Tree/chordata",
          "Family Tree/chordata",
          "Family Tree/chordata",
          "Family Tree/chordata",
          "Family Tree/chordata",
          "Family Tree/chordata",
          "Family Tree/chordata",
          "Family Tree/chordata",
          "Family Tree/chordata",
          "Family Tree/chordata",
          "Family Tree/chordata",
          "Family Tree/arthropoda",
          "Family Tree/chordata",
          "Family Tree/chordata",
          "Family Tree/mollusca",
          "Family Tree/chordata",
          "Family Tree/chordata",
          "Family Tree/chordata",
          "Family Tree/chordata",
          "Family Tree/chordata",
          "Family Tree/chordata",
          "Family Tree/chordata",
          "Family Tree/chordata",
          "Family Tree/chordata",
          "Family Tree/chordata",
          "Family Tree/chordata",
          "Family Tree/chordata",
          "Family Tree/chordata",
          "Family Tree/chordata",
          "Family Tree/chordata",
          "Family Tree/cnidaria",
          "Family Tree/chordata",
          "Family Tree/cnidaria",
          "Family Tree/chordata",
          "Family Tree/chordata",
          "Family Tree/chordata",
          "Family Tree/chordata",
          "Family Tree/chordata",
          "Family Tree/cnidaria",
          "Family Tree/chordata",
          "Family Tree/cnidaria",
          "Family Tree/arthropoda",
          "Family Tree/chordata",
          "Family Tree/cnidaria",
          "Family Tree/chordata",
          "Family Tree/chordata",
          "Family Tree/chordata",
          "Family Tree/chordata",
          "Family Tree/chordata",
          "Family Tree/chordata",
          "Family Tree/arthropoda",
          "Family Tree/chordata",
          "Family Tree/chordata",
          "Family Tree/mollusca",
          "Family Tree/cnidaria",
          "Family Tree/chordata",
          "Family Tree/chordata",
          "Family Tree/chordata",
          "Family Tree/chordata",
          "Family Tree/chordata",
          "Family Tree/chordata",
          "Family Tree/chordata",
          "Family Tree/chordata",
          "Family Tree/chordata",
          "Family Tree/chordata",
          "Family Tree/chordata",
          "Family Tree/chordata",
          "Family Tree/chordata",
          "Family Tree/chordata",
          "Family Tree/chordata",
          "Family Tree/cnidaria",
          "Family Tree/arthropoda",
          "Family Tree/chordata",
          "Family Tree/chordata",
          "Family Tree/chordata",
          "Family Tree/cnidaria",
          "Family Tree/chordata",
          "Family Tree/chordata",
          "Family Tree/cnidaria",
          "Family Tree/chordata",
          "Family Tree/chordata",
          "Family Tree/chordata",
          "Family Tree/chordata",
          "Family Tree/chordata",
          "Family Tree/chordata",
          "Family Tree/chordata",
          "Family Tree/arthropoda",
          "Family Tree/chordata",
          "Family Tree/chordata",
          "Family Tree/chordata",
          "Family Tree/arthropoda",
          "Family Tree/chordata",
          "Family Tree/arthropoda",
          "Family Tree/chordata",
          "Family Tree/chordata",
          "Family Tree/chordata",
          "Family Tree/chordata",
          "Family Tree/chordata",
          "Family Tree/chordata",
          "Family Tree/chordata",
          "Family Tree/chordata",
          "Family Tree/arthropoda",
          "Family Tree/chordata",
          "Family Tree/arthropoda",
          "Family Tree/chordata",
          "Family Tree/chordata",
          "Family Tree/cnidaria",
          "Family Tree/chordata",
          "Family Tree/chordata",
          "Family Tree/chordata",
          "Family Tree/chordata",
          "Family Tree/chordata",
          "Family Tree/chordata",
          "Family Tree/arthropoda",
          "Family Tree/chordata",
          "Family Tree/chordata",
          "Family Tree/chordata",
          "Family Tree/chordata",
          "Family Tree/chordata",
          "Family Tree/chordata",
          "Family Tree/chordata",
          "Family Tree/chordata",
          "Family Tree/chordata",
          "Family Tree/chordata",
          "Family Tree/chordata",
          "Family Tree/chordata",
          "Family Tree/chordata",
          "Family Tree/chordata",
          "Family Tree/chordata",
          "Family Tree/chordata",
          "Family Tree/chordata",
          "Family Tree/chordata",
          "Family Tree/cnidaria",
          "Family Tree/chordata",
          "Family Tree/chordata",
          "Family Tree/chordata",
          "Family Tree/chordata",
          "Family Tree/chordata",
          "Family Tree/chordata",
          "Family Tree/chordata",
          "Family Tree/chordata",
          "Family Tree/echinodermata",
          "Family Tree/chordata",
          "Family Tree/chordata",
          "Family Tree/chordata",
          "Family Tree/chordata",
          "Family Tree/arthropoda",
          "Family Tree/arthropoda",
          "Family Tree/chordata",
          "Family Tree/chordata",
          "Family Tree/arthropoda",
          "Family Tree/chordata",
          "Family Tree/chordata",
          "Family Tree/chordata",
          "Family Tree/chordata",
          "Family Tree/mollusca",
          "Family Tree/chordata",
          "Family Tree/chordata",
          "Family Tree/chordata",
          "Family Tree/chordata",
          "Family Tree/chordata",
          "Family Tree/chordata",
          "Family Tree/chordata",
          "Family Tree/mollusca",
          "Family Tree",
          "Family Tree",
          "Family Tree",
          "Family Tree",
          "Family Tree",
          ""
         ],
         "type": "treemap",
         "values": [
          1,
          1,
          1,
          1,
          1,
          1,
          1,
          1,
          1,
          1,
          1,
          1,
          1,
          1,
          1,
          1,
          1,
          1,
          1,
          1,
          1,
          1,
          1,
          1,
          1,
          1,
          1,
          1,
          1,
          1,
          1,
          1,
          1,
          1,
          1,
          1,
          1,
          1,
          1,
          1,
          1,
          1,
          1,
          1,
          1,
          1,
          1,
          1,
          1,
          1,
          1,
          1,
          1,
          1,
          1,
          1,
          1,
          1,
          1,
          1,
          1,
          1,
          1,
          1,
          1,
          1,
          1,
          1,
          1,
          1,
          1,
          1,
          1,
          1,
          1,
          1,
          1,
          1,
          1,
          1,
          1,
          1,
          1,
          1,
          1,
          1,
          1,
          1,
          1,
          1,
          1,
          1,
          1,
          1,
          1,
          1,
          1,
          1,
          1,
          1,
          1,
          1,
          1,
          1,
          1,
          1,
          1,
          1,
          1,
          1,
          1,
          1,
          1,
          1,
          1,
          1,
          1,
          1,
          1,
          1,
          1,
          1,
          1,
          1,
          1,
          1,
          1,
          1,
          1,
          1,
          1,
          1,
          1,
          1,
          1,
          1,
          1,
          1,
          1,
          1,
          1,
          1,
          1,
          1,
          1,
          1,
          1,
          1,
          1,
          1,
          1,
          1,
          1,
          1,
          1,
          1,
          1,
          1,
          1,
          1,
          1,
          1,
          1,
          1,
          1,
          1,
          1,
          1,
          1,
          1,
          1,
          1,
          1,
          1,
          1,
          1,
          1,
          1,
          1,
          1,
          1,
          1,
          1,
          1,
          1,
          1,
          1,
          1,
          1,
          1,
          1,
          1,
          1,
          1,
          1,
          1,
          1,
          1,
          1,
          1,
          1,
          1,
          17,
          166,
          13,
          1,
          5,
          202
         ]
        }
       ],
       "layout": {
        "legend": {
         "tracegroupgap": 0
        },
        "template": {
         "data": {
          "bar": [
           {
            "error_x": {
             "color": "#2a3f5f"
            },
            "error_y": {
             "color": "#2a3f5f"
            },
            "marker": {
             "line": {
              "color": "#E5ECF6",
              "width": 0.5
             },
             "pattern": {
              "fillmode": "overlay",
              "size": 10,
              "solidity": 0.2
             }
            },
            "type": "bar"
           }
          ],
          "barpolar": [
           {
            "marker": {
             "line": {
              "color": "#E5ECF6",
              "width": 0.5
             },
             "pattern": {
              "fillmode": "overlay",
              "size": 10,
              "solidity": 0.2
             }
            },
            "type": "barpolar"
           }
          ],
          "carpet": [
           {
            "aaxis": {
             "endlinecolor": "#2a3f5f",
             "gridcolor": "white",
             "linecolor": "white",
             "minorgridcolor": "white",
             "startlinecolor": "#2a3f5f"
            },
            "baxis": {
             "endlinecolor": "#2a3f5f",
             "gridcolor": "white",
             "linecolor": "white",
             "minorgridcolor": "white",
             "startlinecolor": "#2a3f5f"
            },
            "type": "carpet"
           }
          ],
          "choropleth": [
           {
            "colorbar": {
             "outlinewidth": 0,
             "ticks": ""
            },
            "type": "choropleth"
           }
          ],
          "contour": [
           {
            "colorbar": {
             "outlinewidth": 0,
             "ticks": ""
            },
            "colorscale": [
             [
              0,
              "#0d0887"
             ],
             [
              0.1111111111111111,
              "#46039f"
             ],
             [
              0.2222222222222222,
              "#7201a8"
             ],
             [
              0.3333333333333333,
              "#9c179e"
             ],
             [
              0.4444444444444444,
              "#bd3786"
             ],
             [
              0.5555555555555556,
              "#d8576b"
             ],
             [
              0.6666666666666666,
              "#ed7953"
             ],
             [
              0.7777777777777778,
              "#fb9f3a"
             ],
             [
              0.8888888888888888,
              "#fdca26"
             ],
             [
              1,
              "#f0f921"
             ]
            ],
            "type": "contour"
           }
          ],
          "contourcarpet": [
           {
            "colorbar": {
             "outlinewidth": 0,
             "ticks": ""
            },
            "type": "contourcarpet"
           }
          ],
          "heatmap": [
           {
            "colorbar": {
             "outlinewidth": 0,
             "ticks": ""
            },
            "colorscale": [
             [
              0,
              "#0d0887"
             ],
             [
              0.1111111111111111,
              "#46039f"
             ],
             [
              0.2222222222222222,
              "#7201a8"
             ],
             [
              0.3333333333333333,
              "#9c179e"
             ],
             [
              0.4444444444444444,
              "#bd3786"
             ],
             [
              0.5555555555555556,
              "#d8576b"
             ],
             [
              0.6666666666666666,
              "#ed7953"
             ],
             [
              0.7777777777777778,
              "#fb9f3a"
             ],
             [
              0.8888888888888888,
              "#fdca26"
             ],
             [
              1,
              "#f0f921"
             ]
            ],
            "type": "heatmap"
           }
          ],
          "heatmapgl": [
           {
            "colorbar": {
             "outlinewidth": 0,
             "ticks": ""
            },
            "colorscale": [
             [
              0,
              "#0d0887"
             ],
             [
              0.1111111111111111,
              "#46039f"
             ],
             [
              0.2222222222222222,
              "#7201a8"
             ],
             [
              0.3333333333333333,
              "#9c179e"
             ],
             [
              0.4444444444444444,
              "#bd3786"
             ],
             [
              0.5555555555555556,
              "#d8576b"
             ],
             [
              0.6666666666666666,
              "#ed7953"
             ],
             [
              0.7777777777777778,
              "#fb9f3a"
             ],
             [
              0.8888888888888888,
              "#fdca26"
             ],
             [
              1,
              "#f0f921"
             ]
            ],
            "type": "heatmapgl"
           }
          ],
          "histogram": [
           {
            "marker": {
             "pattern": {
              "fillmode": "overlay",
              "size": 10,
              "solidity": 0.2
             }
            },
            "type": "histogram"
           }
          ],
          "histogram2d": [
           {
            "colorbar": {
             "outlinewidth": 0,
             "ticks": ""
            },
            "colorscale": [
             [
              0,
              "#0d0887"
             ],
             [
              0.1111111111111111,
              "#46039f"
             ],
             [
              0.2222222222222222,
              "#7201a8"
             ],
             [
              0.3333333333333333,
              "#9c179e"
             ],
             [
              0.4444444444444444,
              "#bd3786"
             ],
             [
              0.5555555555555556,
              "#d8576b"
             ],
             [
              0.6666666666666666,
              "#ed7953"
             ],
             [
              0.7777777777777778,
              "#fb9f3a"
             ],
             [
              0.8888888888888888,
              "#fdca26"
             ],
             [
              1,
              "#f0f921"
             ]
            ],
            "type": "histogram2d"
           }
          ],
          "histogram2dcontour": [
           {
            "colorbar": {
             "outlinewidth": 0,
             "ticks": ""
            },
            "colorscale": [
             [
              0,
              "#0d0887"
             ],
             [
              0.1111111111111111,
              "#46039f"
             ],
             [
              0.2222222222222222,
              "#7201a8"
             ],
             [
              0.3333333333333333,
              "#9c179e"
             ],
             [
              0.4444444444444444,
              "#bd3786"
             ],
             [
              0.5555555555555556,
              "#d8576b"
             ],
             [
              0.6666666666666666,
              "#ed7953"
             ],
             [
              0.7777777777777778,
              "#fb9f3a"
             ],
             [
              0.8888888888888888,
              "#fdca26"
             ],
             [
              1,
              "#f0f921"
             ]
            ],
            "type": "histogram2dcontour"
           }
          ],
          "mesh3d": [
           {
            "colorbar": {
             "outlinewidth": 0,
             "ticks": ""
            },
            "type": "mesh3d"
           }
          ],
          "parcoords": [
           {
            "line": {
             "colorbar": {
              "outlinewidth": 0,
              "ticks": ""
             }
            },
            "type": "parcoords"
           }
          ],
          "pie": [
           {
            "automargin": true,
            "type": "pie"
           }
          ],
          "scatter": [
           {
            "fillpattern": {
             "fillmode": "overlay",
             "size": 10,
             "solidity": 0.2
            },
            "type": "scatter"
           }
          ],
          "scatter3d": [
           {
            "line": {
             "colorbar": {
              "outlinewidth": 0,
              "ticks": ""
             }
            },
            "marker": {
             "colorbar": {
              "outlinewidth": 0,
              "ticks": ""
             }
            },
            "type": "scatter3d"
           }
          ],
          "scattercarpet": [
           {
            "marker": {
             "colorbar": {
              "outlinewidth": 0,
              "ticks": ""
             }
            },
            "type": "scattercarpet"
           }
          ],
          "scattergeo": [
           {
            "marker": {
             "colorbar": {
              "outlinewidth": 0,
              "ticks": ""
             }
            },
            "type": "scattergeo"
           }
          ],
          "scattergl": [
           {
            "marker": {
             "colorbar": {
              "outlinewidth": 0,
              "ticks": ""
             }
            },
            "type": "scattergl"
           }
          ],
          "scattermapbox": [
           {
            "marker": {
             "colorbar": {
              "outlinewidth": 0,
              "ticks": ""
             }
            },
            "type": "scattermapbox"
           }
          ],
          "scatterpolar": [
           {
            "marker": {
             "colorbar": {
              "outlinewidth": 0,
              "ticks": ""
             }
            },
            "type": "scatterpolar"
           }
          ],
          "scatterpolargl": [
           {
            "marker": {
             "colorbar": {
              "outlinewidth": 0,
              "ticks": ""
             }
            },
            "type": "scatterpolargl"
           }
          ],
          "scatterternary": [
           {
            "marker": {
             "colorbar": {
              "outlinewidth": 0,
              "ticks": ""
             }
            },
            "type": "scatterternary"
           }
          ],
          "surface": [
           {
            "colorbar": {
             "outlinewidth": 0,
             "ticks": ""
            },
            "colorscale": [
             [
              0,
              "#0d0887"
             ],
             [
              0.1111111111111111,
              "#46039f"
             ],
             [
              0.2222222222222222,
              "#7201a8"
             ],
             [
              0.3333333333333333,
              "#9c179e"
             ],
             [
              0.4444444444444444,
              "#bd3786"
             ],
             [
              0.5555555555555556,
              "#d8576b"
             ],
             [
              0.6666666666666666,
              "#ed7953"
             ],
             [
              0.7777777777777778,
              "#fb9f3a"
             ],
             [
              0.8888888888888888,
              "#fdca26"
             ],
             [
              1,
              "#f0f921"
             ]
            ],
            "type": "surface"
           }
          ],
          "table": [
           {
            "cells": {
             "fill": {
              "color": "#EBF0F8"
             },
             "line": {
              "color": "white"
             }
            },
            "header": {
             "fill": {
              "color": "#C8D4E3"
             },
             "line": {
              "color": "white"
             }
            },
            "type": "table"
           }
          ]
         },
         "layout": {
          "annotationdefaults": {
           "arrowcolor": "#2a3f5f",
           "arrowhead": 0,
           "arrowwidth": 1
          },
          "autotypenumbers": "strict",
          "coloraxis": {
           "colorbar": {
            "outlinewidth": 0,
            "ticks": ""
           }
          },
          "colorscale": {
           "diverging": [
            [
             0,
             "#8e0152"
            ],
            [
             0.1,
             "#c51b7d"
            ],
            [
             0.2,
             "#de77ae"
            ],
            [
             0.3,
             "#f1b6da"
            ],
            [
             0.4,
             "#fde0ef"
            ],
            [
             0.5,
             "#f7f7f7"
            ],
            [
             0.6,
             "#e6f5d0"
            ],
            [
             0.7,
             "#b8e186"
            ],
            [
             0.8,
             "#7fbc41"
            ],
            [
             0.9,
             "#4d9221"
            ],
            [
             1,
             "#276419"
            ]
           ],
           "sequential": [
            [
             0,
             "#0d0887"
            ],
            [
             0.1111111111111111,
             "#46039f"
            ],
            [
             0.2222222222222222,
             "#7201a8"
            ],
            [
             0.3333333333333333,
             "#9c179e"
            ],
            [
             0.4444444444444444,
             "#bd3786"
            ],
            [
             0.5555555555555556,
             "#d8576b"
            ],
            [
             0.6666666666666666,
             "#ed7953"
            ],
            [
             0.7777777777777778,
             "#fb9f3a"
            ],
            [
             0.8888888888888888,
             "#fdca26"
            ],
            [
             1,
             "#f0f921"
            ]
           ],
           "sequentialminus": [
            [
             0,
             "#0d0887"
            ],
            [
             0.1111111111111111,
             "#46039f"
            ],
            [
             0.2222222222222222,
             "#7201a8"
            ],
            [
             0.3333333333333333,
             "#9c179e"
            ],
            [
             0.4444444444444444,
             "#bd3786"
            ],
            [
             0.5555555555555556,
             "#d8576b"
            ],
            [
             0.6666666666666666,
             "#ed7953"
            ],
            [
             0.7777777777777778,
             "#fb9f3a"
            ],
            [
             0.8888888888888888,
             "#fdca26"
            ],
            [
             1,
             "#f0f921"
            ]
           ]
          },
          "colorway": [
           "#636efa",
           "#EF553B",
           "#00cc96",
           "#ab63fa",
           "#FFA15A",
           "#19d3f3",
           "#FF6692",
           "#B6E880",
           "#FF97FF",
           "#FECB52"
          ],
          "font": {
           "color": "#2a3f5f"
          },
          "geo": {
           "bgcolor": "white",
           "lakecolor": "white",
           "landcolor": "#E5ECF6",
           "showlakes": true,
           "showland": true,
           "subunitcolor": "white"
          },
          "hoverlabel": {
           "align": "left"
          },
          "hovermode": "closest",
          "mapbox": {
           "style": "light"
          },
          "paper_bgcolor": "white",
          "plot_bgcolor": "#E5ECF6",
          "polar": {
           "angularaxis": {
            "gridcolor": "white",
            "linecolor": "white",
            "ticks": ""
           },
           "bgcolor": "#E5ECF6",
           "radialaxis": {
            "gridcolor": "white",
            "linecolor": "white",
            "ticks": ""
           }
          },
          "scene": {
           "xaxis": {
            "backgroundcolor": "#E5ECF6",
            "gridcolor": "white",
            "gridwidth": 2,
            "linecolor": "white",
            "showbackground": true,
            "ticks": "",
            "zerolinecolor": "white"
           },
           "yaxis": {
            "backgroundcolor": "#E5ECF6",
            "gridcolor": "white",
            "gridwidth": 2,
            "linecolor": "white",
            "showbackground": true,
            "ticks": "",
            "zerolinecolor": "white"
           },
           "zaxis": {
            "backgroundcolor": "#E5ECF6",
            "gridcolor": "white",
            "gridwidth": 2,
            "linecolor": "white",
            "showbackground": true,
            "ticks": "",
            "zerolinecolor": "white"
           }
          },
          "shapedefaults": {
           "line": {
            "color": "#2a3f5f"
           }
          },
          "ternary": {
           "aaxis": {
            "gridcolor": "white",
            "linecolor": "white",
            "ticks": ""
           },
           "baxis": {
            "gridcolor": "white",
            "linecolor": "white",
            "ticks": ""
           },
           "bgcolor": "#E5ECF6",
           "caxis": {
            "gridcolor": "white",
            "linecolor": "white",
            "ticks": ""
           }
          },
          "title": {
           "x": 0.05
          },
          "xaxis": {
           "automargin": true,
           "gridcolor": "white",
           "linecolor": "white",
           "ticks": "",
           "title": {
            "standoff": 15
           },
           "zerolinecolor": "white",
           "zerolinewidth": 2
          },
          "yaxis": {
           "automargin": true,
           "gridcolor": "white",
           "linecolor": "white",
           "ticks": "",
           "title": {
            "standoff": 15
           },
           "zerolinecolor": "white",
           "zerolinewidth": 2
          }
         }
        },
        "title": {
         "text": "Árvore Taxonómica: Phylum > Family"
        }
       }
      }
     },
     "metadata": {},
     "output_type": "display_data"
    }
   ],
   "source": [
    "df_clean = df[['phylum', 'family']].dropna().drop_duplicates()\n",
    "\n",
    "# Criar estrutura hierárquica\n",
    "df_clean['root'] = 'Family Tree'  # raiz da árvore\n",
    "\n",
    "# Construir a árvore com Plotly Treemap\n",
    "fig = px.treemap(df_clean,\n",
    "                 path=['root', 'phylum', 'family'],\n",
    "                 title='Árvore Taxonómica: Phylum > Family')\n",
    "\n",
    "fig.show()"
   ]
  },
  {
   "cell_type": "markdown",
   "metadata": {},
   "source": [
    "**Conclusions:**\n",
    "- After analyse this graphic, we can conclude that:\n",
    "    - chordata has 166 unique species\n",
    "    - arthropoda has 17 unique species\n",
    "    - cnidaria has 13 unique species\n",
    "    - mollusca has 5 unique species\n",
    "    - echinodermata has 1 unique specie\n",
    "- The total families are 202"
   ]
  },
  {
   "cell_type": "markdown",
   "metadata": {},
   "source": [
    "<a class=\"anchor\" id=\"four-bullet\"> \n",
    "\n",
    "## <span style=\"color:#FF007F\"> 4. Data types</span> \n",
    "\n",
    "<a href=\"#top\">Top &#129033;</a>\n"
   ]
  },
  {
   "cell_type": "code",
   "execution_count": 10,
   "metadata": {},
   "outputs": [
    {
     "name": "stdout",
     "output_type": "stream",
     "text": [
      "<class 'pandas.core.frame.DataFrame'>\n",
      "RangeIndex: 11983 entries, 0 to 11982\n",
      "Data columns (total 7 columns):\n",
      " #   Column           Non-Null Count  Dtype \n",
      "---  ------           --------------  ----- \n",
      " 0   rare_species_id  11983 non-null  object\n",
      " 1   eol_content_id   11983 non-null  int64 \n",
      " 2   eol_page_id      11983 non-null  int64 \n",
      " 3   kingdom          11983 non-null  object\n",
      " 4   phylum           11983 non-null  object\n",
      " 5   family           11983 non-null  object\n",
      " 6   file_path        11983 non-null  object\n",
      "dtypes: int64(2), object(5)\n",
      "memory usage: 655.4+ KB\n"
     ]
    }
   ],
   "source": [
    "df.info()"
   ]
  },
  {
   "cell_type": "markdown",
   "metadata": {},
   "source": [
    "We notice that there is no incorrect data types."
   ]
  },
  {
   "cell_type": "markdown",
   "metadata": {},
   "source": [
    "<a class=\"anchor\" id=\"five-bullet\"> \n",
    "\n",
    "## <span style=\"color:#FF007F\"> 5. Duplicates</span> \n",
    "\n",
    "<a href=\"#top\">Top &#129033;</a>\n"
   ]
  },
  {
   "cell_type": "markdown",
   "metadata": {},
   "source": [
    "The next step was to check if exists duplicates in this dataset"
   ]
  },
  {
   "cell_type": "code",
   "execution_count": 11,
   "metadata": {},
   "outputs": [
    {
     "name": "stdout",
     "output_type": "stream",
     "text": [
      "There are 0 duplicated rows\n"
     ]
    }
   ],
   "source": [
    "print(f'There are {df.duplicated().sum()} duplicated rows')"
   ]
  },
  {
   "cell_type": "markdown",
   "metadata": {},
   "source": [
    "As we can see, there are no duplicates"
   ]
  },
  {
   "cell_type": "markdown",
   "metadata": {},
   "source": [
    "<a class=\"anchor\" id=\"six-bullet\"> \n",
    "\n",
    "## <span style=\"color:#FF007F\"> 6. Missing Values</span> \n",
    "\n",
    "<a href=\"#top\">Top &#129033;</a>\n"
   ]
  },
  {
   "cell_type": "markdown",
   "metadata": {},
   "source": [
    "This next step is to make sure that we don´t have missing values"
   ]
  },
  {
   "cell_type": "code",
   "execution_count": 12,
   "metadata": {},
   "outputs": [],
   "source": [
    "missing_values = df.isnull().sum() / len(df) * 100"
   ]
  }
 ],
 "metadata": {
  "kernelspec": {
   "display_name": "DL",
   "language": "python",
   "name": "python3"
  },
  "language_info": {
   "codemirror_mode": {
    "name": "ipython",
    "version": 3
   },
   "file_extension": ".py",
   "mimetype": "text/x-python",
   "name": "python",
   "nbconvert_exporter": "python",
   "pygments_lexer": "ipython3",
   "version": "3.12.9"
  }
 },
 "nbformat": 4,
 "nbformat_minor": 2
}
