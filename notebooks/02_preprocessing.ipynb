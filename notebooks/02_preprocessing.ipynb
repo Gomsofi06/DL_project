{
 "cells": [
  {
   "cell_type": "markdown",
   "metadata": {},
   "source": [
    "<h1 style=\"text-align: center;\">Deep Learning Project</h1>\n",
    "\n",
    "** **\n",
    "\n",
    "## <p style=\"text-align: center;\"><i>02 - Pre-Processing </i></p>\n",
    "\n",
    "** **\n",
    "<p style=\"text-align: center;\">\n",
    "David Cascão - 20240851 <br>\n",
    "Jan-Louis Schneider - 20240506 <br>\n",
    "Emir Kamiloglu - 20240945 <br>\n",
    "Marta Boavida - 20240519 <br>\n",
    "Sofia Gomes - 20240848\n",
    "</p>\n"
   ]
  },
  {
   "cell_type": "markdown",
   "metadata": {},
   "source": [
    "## <span style=\"color:#FF007F\">  Notebook  </span> \n",
    "\n",
    "# <span style=\"color:yellow\">  ACABAR  </span> \n",
    "\n",
    "In this notebook, \n"
   ]
  },
  {
   "cell_type": "markdown",
   "metadata": {},
   "source": [
    "## <span style=\"color:#FF007F\"> Table of Contents </span>\n",
    "\n",
    "<a class=\"anchor\" id=\"top\"></a>\n",
    "\n",
    "1. [Import Libraries](#one-bullet) <br>\n",
    "\n",
    "2. [Import Datasets](#two-bullet) <br>\n",
    "\n",
    "# <span style=\"color:yellow\"> ACABAR </span>"
   ]
  },
  {
   "cell_type": "markdown",
   "metadata": {},
   "source": [
    "<a class=\"anchor\" id=\"one-bullet\"></a>\n",
    "\n",
    "## <span style=\"color:#FF007F\"> 1. Import Libraries</span>\n",
    "\n",
    "The first step is to import the necessary libraries."
   ]
  },
  {
   "cell_type": "code",
   "execution_count": null,
   "metadata": {
    "vscode": {
     "languageId": "plaintext"
    }
   },
   "outputs": [],
   "source": [
    "import pandas as pd\n",
    "import numpy as np  \n",
    "import plotly.express as px"
   ]
  },
  {
   "cell_type": "markdown",
   "metadata": {},
   "source": [
    "<a class=\"anchor\" id=\"two-bullet\"> \n",
    "\n",
    "## <span style=\"color:#FF007F\"> 2. Import Datasets</span> \n",
    "\n",
    "<a href=\"#top\">Top &#129033;</a>\n",
    "\n",
    "Next, we start by importing the dataset."
   ]
  },
  {
   "cell_type": "code",
   "execution_count": null,
   "metadata": {
    "vscode": {
     "languageId": "plaintext"
    }
   },
   "outputs": [],
   "source": [
    "df = pd.read_csv('./data/metadata.csv')\n",
    "df"
   ]
  }
 ],
 "metadata": {
  "language_info": {
   "name": "python"
  }
 },
 "nbformat": 4,
 "nbformat_minor": 2
}
